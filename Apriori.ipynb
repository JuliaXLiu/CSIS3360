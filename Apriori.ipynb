{
 "cells": [
  {
   "cell_type": "code",
   "execution_count": 1,
   "id": "4169afa6-89c1-429d-94e1-934d24cff7a0",
   "metadata": {},
   "outputs": [],
   "source": [
    "import pandas as pd\n",
    "from collections import defaultdict\n",
    "\n",
    "# All Required Inputs Are Here\n",
    "# Remember to change\n",
    "\n",
    "input_file = \"Apriori_partial.xlsx\"\n",
    "input_sheet = \"Apriori\"\n",
    "target_item = \"Milk\""
   ]
  },
  {
   "cell_type": "code",
   "execution_count": 2,
   "id": "679bc9d0-b0b9-4d0e-ad23-3ffbd1d7a5f1",
   "metadata": {},
   "outputs": [
    {
     "name": "stdout",
     "output_type": "stream",
     "text": [
      "['Milk', 'Onion', 'Nutmeg', 'Kidney Beans', 'Eggs', 'Yogurt']\n",
      "['Dill', 'Onion', 'Nutmeg', 'Kidney Beans', 'Eggs', 'Yogurt']\n",
      "['Milk', 'Apple', 'Kidney Beans', 'Eggs']\n",
      "['Milk', 'Unicorn', 'Corn', 'Kidney Beans', 'Yogurt']\n",
      "['Corn', 'Onion', 'Onion', 'Kidney Beans', 'Ice cream', 'Eggs']\n"
     ]
    }
   ],
   "source": [
    "def read_excel_data(file_path, input_sheet=0):\n",
    "    df = pd.read_excel(file_path, header=None, sheet_name=input_sheet)\n",
    "    original_data = []\n",
    "    for _, row in df.iterrows():\n",
    "        items = [str(cell).strip() for cell in row if pd.notna(cell) and str(cell).strip() != '']\n",
    "        if items == []:\n",
    "            break\n",
    "        original_data.append(items)\n",
    "    return original_data\n",
    "\n",
    "original_data = read_excel_data(input_file, input_sheet)\n",
    "\n",
    "for i in original_data:\n",
    "    print(i)"
   ]
  },
  {
   "cell_type": "code",
   "execution_count": 3,
   "id": "e5033277-6255-4ebc-af9b-af41130de74c",
   "metadata": {},
   "outputs": [
    {
     "name": "stdout",
     "output_type": "stream",
     "text": [
      "     Apple  Corn  Dill  Eggs  Ice cream  Kidney Beans  Milk  Nutmeg  Onion  \\\n",
      "Txn                                                                          \n",
      "1        0     0     0     1          0             1     1       1      1   \n",
      "2        0     0     1     1          0             1     0       1      1   \n",
      "3        1     0     0     1          0             1     1       0      0   \n",
      "4        0     1     0     0          0             1     1       0      0   \n",
      "5        0     1     0     1          1             1     0       0      1   \n",
      "\n",
      "     Unicorn  Yogurt  \n",
      "Txn                   \n",
      "1          0       1  \n",
      "2          0       1  \n",
      "3          0       0  \n",
      "4          1       1  \n",
      "5          0       0  \n"
     ]
    }
   ],
   "source": [
    "def process_cell(cell):\n",
    "    cell = str(cell).strip()\n",
    "    return [cell] if cell != '' else []\n",
    "\n",
    "# get unique items\n",
    "all_items = set()\n",
    "for row in original_data:\n",
    "    for cell in row:\n",
    "        items = process_cell(cell)\n",
    "        all_items.update(items)\n",
    "all_items = sorted(all_items)  # Sort by alphabet\n",
    "\n",
    "# count on every transaction\n",
    "result = []\n",
    "for txn_id, row in enumerate(original_data, start=1):\n",
    "    counts = defaultdict(int)\n",
    "    for cell in row:\n",
    "        for item in process_cell(cell):\n",
    "            counts[item] = 1\n",
    "            break\n",
    "    # build row data\n",
    "    row_data = {'Txn': txn_id}\n",
    "    for item in all_items:\n",
    "        row_data[item] = counts.get(item, 0)\n",
    "    result.append(row_data)\n",
    "\n",
    "\n",
    "#  create DataFrame and set Txn as index\n",
    "df = pd.DataFrame(result).set_index('Txn')\n",
    "df = df[sorted(df.columns)]  # Sort by alphabet\n",
    "\n",
    "print(df)"
   ]
  },
  {
   "cell_type": "code",
   "execution_count": 4,
   "id": "961b02a8-1538-4910-bfd5-43e4a0673f85",
   "metadata": {},
   "outputs": [
    {
     "name": "stdout",
     "output_type": "stream",
     "text": [
      "Item Total and Sup:\n",
      "       Apple  Corn  Dill  Eggs  Ice cream  Kidney Beans  Milk  Nutmeg  Onion  \\\n",
      "Total    1.0   2.0   1.0   4.0        1.0           5.0   3.0     2.0    3.0   \n",
      "Sup      0.2   0.4   0.2   0.8        0.2           1.0   0.6     0.4    0.6   \n",
      "\n",
      "       Unicorn  Yogurt  \n",
      "Total      1.0     3.0  \n",
      "Sup        0.2     0.6  \n"
     ]
    }
   ],
   "source": [
    "# calculate sup\n",
    "total = df.sum()\n",
    "sup = total / len(df)\n",
    "\n",
    "# build result pd\n",
    "item_calculation = pd.DataFrame({\n",
    "    \"Total\": total,\n",
    "    \"Sup\": sup.round(2)\n",
    "}).T\n",
    "\n",
    "print(\"Item Total and Sup:\")\n",
    "print(item_calculation)"
   ]
  },
  {
   "cell_type": "code",
   "execution_count": 5,
   "id": "ed6d7b00-cd09-491b-bac3-e402325fe7a8",
   "metadata": {},
   "outputs": [
    {
     "name": "stdout",
     "output_type": "stream",
     "text": [
      "[('MA', 'Apple'), ('MC', 'Corn'), ('MD', 'Dill'), ('ME', 'Eggs'), ('MI', 'Ice cream'), ('MK', 'Kidney Beans'), ('MN', 'Nutmeg'), ('MO', 'Onion'), ('MU', 'Unicorn'), ('MY', 'Yogurt')]\n",
      "\n",
      " Correlated Table Result:\n",
      "     MA  MC  MD  ME  MI  MK  MN  MO  MU  MY\n",
      "Txn                                        \n",
      "1     0   0   0   1   0   1   1   1   0   1\n",
      "2     0   0   0   0   0   0   0   0   0   0\n",
      "3     1   0   0   1   0   1   0   0   0   0\n",
      "4     0   1   0   0   0   1   0   0   1   1\n",
      "5     0   0   0   0   0   0   0   0   0   0\n"
     ]
    }
   ],
   "source": [
    "# create a set list for column name and correlated item\n",
    "# for example, [('MA', 'Apple'), ('MC', 'Corn')...]\n",
    "\n",
    "column_config = [(target_item[0].upper()+item[0], item) for item in list(df.columns) if item.strip().lower() != target_item.strip().lower()]\n",
    "print(column_config)\n",
    "\n",
    "# create correlation table\n",
    "correlated_table = pd.DataFrame(index=df.index)\n",
    "\n",
    "# check every item in column_config list\n",
    "for new_col, item in column_config:\n",
    "    try:\n",
    "        # check if milk and correlated item exist\n",
    "        milk_values = df[target_item]\n",
    "        item_values = df[item]\n",
    "        \n",
    "        # if both two items > 0, then return 1; else return 0\n",
    "        correlated_table[new_col] = ((milk_values > 0) & (item_values > 0)).astype(int)\n",
    "    except KeyError:\n",
    "        # if item not exists, return 0\n",
    "        correlated_table[new_col] = 0\n",
    "\n",
    "print(\"\\n Correlated Table Result:\")\n",
    "print(correlated_table)"
   ]
  },
  {
   "cell_type": "code",
   "execution_count": 6,
   "id": "e2c1c18b-e577-4b2c-af79-03e098309b2c",
   "metadata": {
    "scrolled": true
   },
   "outputs": [
    {
     "name": "stdout",
     "output_type": "stream",
     "text": [
      "Correlation Calculation\n",
      "               MA       MC    MD       ME    MI    MK       MN       MO  \\\n",
      "Total           1        1     0        2     0     3        1        1   \n",
      "Sup           0.2      0.2   0.0      0.4   0.0   0.6      0.2      0.2   \n",
      "confi         33%      33%    0%      67%    0%  100%      33%      33%   \n",
      "Lift      1.66667  0.83333   0.0  0.83333   0.0   1.0  0.83333  0.55556   \n",
      "Leverage     0.08    -0.04 -0.12    -0.08 -0.12   0.0    -0.04    -0.16   \n",
      "\n",
      "               MU       MY  \n",
      "Total           1        2  \n",
      "Sup           0.2      0.4  \n",
      "confi         33%      67%  \n",
      "Lift      1.66667  1.11111  \n",
      "Leverage     0.08     0.04  \n"
     ]
    }
   ],
   "source": [
    "target_total = item_calculation[target_item][\"Total\"]\n",
    "target_sup = item_calculation[target_item][\"Sup\"]\n",
    "total = correlated_table.sum()\n",
    "sup = total / len(correlated_table)\n",
    "confi = (sup / target_sup).fillna(0)\n",
    "\n",
    "lift = []\n",
    "leverage = []\n",
    "for col, item in column_config:\n",
    "    xy_sup = sup[col]\n",
    "    y_sup = item_calculation[item][\"Sup\"]\n",
    "\n",
    "    # calculate Lift\n",
    "    lift_value = xy_sup / (target_sup * y_sup) if target_sup * y_sup != 0 else 0\n",
    "    \n",
    "    # calculate Leverage\n",
    "    leverage_value = xy_sup - (target_sup * y_sup)\n",
    "    \n",
    "    lift.append(lift_value)\n",
    "    leverage.append(leverage_value)\n",
    "\n",
    "lift = pd.Series(lift, index=total.index)\n",
    "leverage = pd.Series(leverage, index=total.index)\n",
    "\n",
    "calculation_corrected_table = pd.DataFrame({\n",
    "    \"Total\": total,\n",
    "    \"Sup\": sup.round(2),\n",
    "    \"confi\": confi.apply(lambda x: f\"{int(round(x*100))}%\"),\n",
    "    \"Lift\": lift.round(5),\n",
    "    \"Leverage\": leverage.round(5)\n",
    "}).T\n",
    "\n",
    "print(\"Correlation Calculation\")\n",
    "print(calculation_corrected_table)"
   ]
  }
 ],
 "metadata": {
  "kernelspec": {
   "display_name": "Python 3 (ipykernel)",
   "language": "python",
   "name": "python3"
  },
  "language_info": {
   "codemirror_mode": {
    "name": "ipython",
    "version": 3
   },
   "file_extension": ".py",
   "mimetype": "text/x-python",
   "name": "python",
   "nbconvert_exporter": "python",
   "pygments_lexer": "ipython3",
   "version": "3.11.7"
  }
 },
 "nbformat": 4,
 "nbformat_minor": 5
}
